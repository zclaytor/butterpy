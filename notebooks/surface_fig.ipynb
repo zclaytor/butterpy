{
 "cells": [
  {
   "cell_type": "code",
   "execution_count": null,
   "metadata": {},
   "outputs": [],
   "source": [
    "import numpy as np\n",
    "import butterpy as bp\n",
    "%matplotlib inline"
   ]
  },
  {
   "cell_type": "code",
   "execution_count": null,
   "metadata": {},
   "outputs": [],
   "source": [
    "np.random.seed(88)\n",
    "\n",
    "star = bp.Surface()\n",
    "star.emerge_regions(\n",
    "    butterfly=True, \n",
    "    activity_level=3, \n",
    "    cycle_period=5, \n",
    "    cycle_overlap=1, \n",
    "    max_lat=45, \n",
    "    min_lat=20,\n",
    ");"
   ]
  },
  {
   "cell_type": "code",
   "execution_count": null,
   "metadata": {},
   "outputs": [],
   "source": [
    "time = np.arange(40, 200, 1.0)\n",
    "\n",
    "lc = star.evolve_spots(\n",
    "    time,\n",
    "    alpha_med=1e-4, \n",
    "    period=24.5,\n",
    "    inclination=60, \n",
    "    tau_evol=10, \n",
    "    shear=0.25\n",
    ")"
   ]
  },
  {
   "cell_type": "code",
   "execution_count": null,
   "metadata": {},
   "outputs": [],
   "source": [
    "ani = star.animate_spots(time, interval=200);\n",
    "#ani.save(\"surface.gif\", writer=\"imagemagick\", dpi=200, fps=5)"
   ]
  },
  {
   "cell_type": "code",
   "execution_count": null,
   "metadata": {},
   "outputs": [],
   "source": [
    "from IPython.display import HTML\n",
    "ani_html = ani.to_jshtml()\n",
    "HTML(ani_html)"
   ]
  }
 ],
 "metadata": {
  "kernelspec": {
   "display_name": "bp",
   "language": "python",
   "name": "python3"
  },
  "language_info": {
   "codemirror_mode": {
    "name": "ipython",
    "version": 3
   },
   "file_extension": ".py",
   "mimetype": "text/x-python",
   "name": "python",
   "nbconvert_exporter": "python",
   "pygments_lexer": "ipython3"
  }
 },
 "nbformat": 4,
 "nbformat_minor": 4
}
